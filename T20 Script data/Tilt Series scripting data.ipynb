{
 "cells": [
  {
   "cell_type": "code",
   "execution_count": 1,
   "id": "00c9c865",
   "metadata": {},
   "outputs": [
    {
     "name": "stderr",
     "output_type": "stream",
     "text": [
      "/Users/enriquecisneros/opt/anaconda3/lib/python3.9/site-packages/scipy/__init__.py:146: UserWarning: A NumPy version >=1.16.5 and <1.23.0 is required for this version of SciPy (detected version 1.24.3\n",
      "  warnings.warn(f\"A NumPy version >={np_minversion} and <{np_maxversion}\"\n"
     ]
    }
   ],
   "source": [
    "import numpy as np \n",
    "import pandas as pd\n",
    "import matplotlib.pyplot as plt\n",
    "from scipy import optimize\n",
    "from scipy.stats import norm"
   ]
  },
  {
   "cell_type": "code",
   "execution_count": 2,
   "id": "378c4414",
   "metadata": {},
   "outputs": [
    {
     "data": {
      "text/html": [
       "<div>\n",
       "<style scoped>\n",
       "    .dataframe tbody tr th:only-of-type {\n",
       "        vertical-align: middle;\n",
       "    }\n",
       "\n",
       "    .dataframe tbody tr th {\n",
       "        vertical-align: top;\n",
       "    }\n",
       "\n",
       "    .dataframe thead th {\n",
       "        text-align: right;\n",
       "    }\n",
       "</style>\n",
       "<table border=\"1\" class=\"dataframe\">\n",
       "  <thead>\n",
       "    <tr style=\"text-align: right;\">\n",
       "      <th></th>\n",
       "      <th>Index</th>\n",
       "      <th>Y position (nm)</th>\n",
       "    </tr>\n",
       "  </thead>\n",
       "  <tbody>\n",
       "    <tr>\n",
       "      <th>count</th>\n",
       "      <td>101.000000</td>\n",
       "      <td>101.000000</td>\n",
       "    </tr>\n",
       "    <tr>\n",
       "      <th>mean</th>\n",
       "      <td>50.000000</td>\n",
       "      <td>117869.277228</td>\n",
       "    </tr>\n",
       "    <tr>\n",
       "      <th>std</th>\n",
       "      <td>29.300171</td>\n",
       "      <td>23.636886</td>\n",
       "    </tr>\n",
       "    <tr>\n",
       "      <th>min</th>\n",
       "      <td>0.000000</td>\n",
       "      <td>117825.000000</td>\n",
       "    </tr>\n",
       "    <tr>\n",
       "      <th>25%</th>\n",
       "      <td>25.000000</td>\n",
       "      <td>117855.000000</td>\n",
       "    </tr>\n",
       "    <tr>\n",
       "      <th>50%</th>\n",
       "      <td>50.000000</td>\n",
       "      <td>117866.000000</td>\n",
       "    </tr>\n",
       "    <tr>\n",
       "      <th>75%</th>\n",
       "      <td>75.000000</td>\n",
       "      <td>117876.000000</td>\n",
       "    </tr>\n",
       "    <tr>\n",
       "      <th>max</th>\n",
       "      <td>100.000000</td>\n",
       "      <td>117940.000000</td>\n",
       "    </tr>\n",
       "  </tbody>\n",
       "</table>\n",
       "</div>"
      ],
      "text/plain": [
       "            Index  Y position (nm)\n",
       "count  101.000000       101.000000\n",
       "mean    50.000000    117869.277228\n",
       "std     29.300171        23.636886\n",
       "min      0.000000    117825.000000\n",
       "25%     25.000000    117855.000000\n",
       "50%     50.000000    117866.000000\n",
       "75%     75.000000    117876.000000\n",
       "max    100.000000    117940.000000"
      ]
     },
     "execution_count": 2,
     "metadata": {},
     "output_type": "execute_result"
    }
   ],
   "source": [
    "Trial6_yaxis = pd.read_csv('Stage y_t6.csv')\n",
    "Trial6_yaxis.columns = ['Index', 'Y position (nm)']\n",
    "Trial6_yaxis['Y position (nm)'] = Trial6_yaxis['Y position (nm)'] *1000\n",
    "Trial6_yaxis.describe(include = 'all')"
   ]
  },
  {
   "cell_type": "code",
   "execution_count": 3,
   "id": "9a496a17",
   "metadata": {},
   "outputs": [
    {
     "data": {
      "text/html": [
       "<div>\n",
       "<style scoped>\n",
       "    .dataframe tbody tr th:only-of-type {\n",
       "        vertical-align: middle;\n",
       "    }\n",
       "\n",
       "    .dataframe tbody tr th {\n",
       "        vertical-align: top;\n",
       "    }\n",
       "\n",
       "    .dataframe thead th {\n",
       "        text-align: right;\n",
       "    }\n",
       "</style>\n",
       "<table border=\"1\" class=\"dataframe\">\n",
       "  <thead>\n",
       "    <tr style=\"text-align: right;\">\n",
       "      <th></th>\n",
       "      <th>Index</th>\n",
       "      <th>X position (nm)</th>\n",
       "    </tr>\n",
       "  </thead>\n",
       "  <tbody>\n",
       "    <tr>\n",
       "      <th>count</th>\n",
       "      <td>101.000000</td>\n",
       "      <td>101.000000</td>\n",
       "    </tr>\n",
       "    <tr>\n",
       "      <th>mean</th>\n",
       "      <td>50.000000</td>\n",
       "      <td>-57935.645545</td>\n",
       "    </tr>\n",
       "    <tr>\n",
       "      <th>std</th>\n",
       "      <td>29.300171</td>\n",
       "      <td>14.182359</td>\n",
       "    </tr>\n",
       "    <tr>\n",
       "      <th>min</th>\n",
       "      <td>0.000000</td>\n",
       "      <td>-57979.200000</td>\n",
       "    </tr>\n",
       "    <tr>\n",
       "      <th>25%</th>\n",
       "      <td>25.000000</td>\n",
       "      <td>-57939.800000</td>\n",
       "    </tr>\n",
       "    <tr>\n",
       "      <th>50%</th>\n",
       "      <td>50.000000</td>\n",
       "      <td>-57938.300000</td>\n",
       "    </tr>\n",
       "    <tr>\n",
       "      <th>75%</th>\n",
       "      <td>75.000000</td>\n",
       "      <td>-57930.700000</td>\n",
       "    </tr>\n",
       "    <tr>\n",
       "      <th>max</th>\n",
       "      <td>100.000000</td>\n",
       "      <td>-57889.800000</td>\n",
       "    </tr>\n",
       "  </tbody>\n",
       "</table>\n",
       "</div>"
      ],
      "text/plain": [
       "            Index  X position (nm)\n",
       "count  101.000000       101.000000\n",
       "mean    50.000000    -57935.645545\n",
       "std     29.300171        14.182359\n",
       "min      0.000000    -57979.200000\n",
       "25%     25.000000    -57939.800000\n",
       "50%     50.000000    -57938.300000\n",
       "75%     75.000000    -57930.700000\n",
       "max    100.000000    -57889.800000"
      ]
     },
     "execution_count": 3,
     "metadata": {},
     "output_type": "execute_result"
    }
   ],
   "source": [
    "Trial6_xaxis = pd.read_csv('Stage x_t6.csv')\n",
    "Trial6_xaxis.columns = ['Index', 'X position (nm)']\n",
    "Trial6_xaxis['X position (nm)'] = Trial6_xaxis['X position (nm)'] * 1000\n",
    "Trial6_xaxis.describe(include = 'all')"
   ]
  },
  {
   "cell_type": "code",
   "execution_count": 4,
   "id": "919fe0e8",
   "metadata": {},
   "outputs": [
    {
     "data": {
      "text/html": [
       "<div>\n",
       "<style scoped>\n",
       "    .dataframe tbody tr th:only-of-type {\n",
       "        vertical-align: middle;\n",
       "    }\n",
       "\n",
       "    .dataframe tbody tr th {\n",
       "        vertical-align: top;\n",
       "    }\n",
       "\n",
       "    .dataframe thead th {\n",
       "        text-align: right;\n",
       "    }\n",
       "</style>\n",
       "<table border=\"1\" class=\"dataframe\">\n",
       "  <thead>\n",
       "    <tr style=\"text-align: right;\">\n",
       "      <th></th>\n",
       "      <th>Index</th>\n",
       "      <th>Degree</th>\n",
       "    </tr>\n",
       "  </thead>\n",
       "  <tbody>\n",
       "    <tr>\n",
       "      <th>0</th>\n",
       "      <td>0</td>\n",
       "      <td>49.0001</td>\n",
       "    </tr>\n",
       "    <tr>\n",
       "      <th>1</th>\n",
       "      <td>1</td>\n",
       "      <td>47.9997</td>\n",
       "    </tr>\n",
       "    <tr>\n",
       "      <th>2</th>\n",
       "      <td>2</td>\n",
       "      <td>46.9998</td>\n",
       "    </tr>\n",
       "    <tr>\n",
       "      <th>3</th>\n",
       "      <td>3</td>\n",
       "      <td>45.9999</td>\n",
       "    </tr>\n",
       "    <tr>\n",
       "      <th>4</th>\n",
       "      <td>4</td>\n",
       "      <td>44.9995</td>\n",
       "    </tr>\n",
       "    <tr>\n",
       "      <th>...</th>\n",
       "      <td>...</td>\n",
       "      <td>...</td>\n",
       "    </tr>\n",
       "    <tr>\n",
       "      <th>96</th>\n",
       "      <td>96</td>\n",
       "      <td>-46.9964</td>\n",
       "    </tr>\n",
       "    <tr>\n",
       "      <th>97</th>\n",
       "      <td>97</td>\n",
       "      <td>-47.9953</td>\n",
       "    </tr>\n",
       "    <tr>\n",
       "      <th>98</th>\n",
       "      <td>98</td>\n",
       "      <td>-48.9957</td>\n",
       "    </tr>\n",
       "    <tr>\n",
       "      <th>99</th>\n",
       "      <td>99</td>\n",
       "      <td>-49.9951</td>\n",
       "    </tr>\n",
       "    <tr>\n",
       "      <th>100</th>\n",
       "      <td>100</td>\n",
       "      <td>-50.9960</td>\n",
       "    </tr>\n",
       "  </tbody>\n",
       "</table>\n",
       "<p>101 rows × 2 columns</p>\n",
       "</div>"
      ],
      "text/plain": [
       "     Index   Degree\n",
       "0        0  49.0001\n",
       "1        1  47.9997\n",
       "2        2  46.9998\n",
       "3        3  45.9999\n",
       "4        4  44.9995\n",
       "..     ...      ...\n",
       "96      96 -46.9964\n",
       "97      97 -47.9953\n",
       "98      98 -48.9957\n",
       "99      99 -49.9951\n",
       "100    100 -50.9960\n",
       "\n",
       "[101 rows x 2 columns]"
      ]
     },
     "execution_count": 4,
     "metadata": {},
     "output_type": "execute_result"
    }
   ],
   "source": [
    "Trial6_Angles = pd.read_csv('3D ED Angle_t6.csv')\n",
    "Trial6_Angles.columns = ['Index','Degree']\n",
    "Trial6_Angles"
   ]
  },
  {
   "cell_type": "code",
   "execution_count": 5,
   "id": "2d547acc",
   "metadata": {},
   "outputs": [
    {
     "data": {
      "text/html": [
       "<div>\n",
       "<style scoped>\n",
       "    .dataframe tbody tr th:only-of-type {\n",
       "        vertical-align: middle;\n",
       "    }\n",
       "\n",
       "    .dataframe tbody tr th {\n",
       "        vertical-align: top;\n",
       "    }\n",
       "\n",
       "    .dataframe thead th {\n",
       "        text-align: right;\n",
       "    }\n",
       "</style>\n",
       "<table border=\"1\" class=\"dataframe\">\n",
       "  <thead>\n",
       "    <tr style=\"text-align: right;\">\n",
       "      <th></th>\n",
       "      <th>Index</th>\n",
       "      <th>Degree per Acquire</th>\n",
       "    </tr>\n",
       "  </thead>\n",
       "  <tbody>\n",
       "    <tr>\n",
       "      <th>0</th>\n",
       "      <td>0</td>\n",
       "      <td>1.001380</td>\n",
       "    </tr>\n",
       "    <tr>\n",
       "      <th>1</th>\n",
       "      <td>1</td>\n",
       "      <td>1.000400</td>\n",
       "    </tr>\n",
       "    <tr>\n",
       "      <th>2</th>\n",
       "      <td>2</td>\n",
       "      <td>0.999912</td>\n",
       "    </tr>\n",
       "    <tr>\n",
       "      <th>3</th>\n",
       "      <td>3</td>\n",
       "      <td>0.999912</td>\n",
       "    </tr>\n",
       "    <tr>\n",
       "      <th>4</th>\n",
       "      <td>4</td>\n",
       "      <td>1.000400</td>\n",
       "    </tr>\n",
       "    <tr>\n",
       "      <th>...</th>\n",
       "      <td>...</td>\n",
       "      <td>...</td>\n",
       "    </tr>\n",
       "    <tr>\n",
       "      <th>96</th>\n",
       "      <td>96</td>\n",
       "      <td>1.000890</td>\n",
       "    </tr>\n",
       "    <tr>\n",
       "      <th>97</th>\n",
       "      <td>97</td>\n",
       "      <td>0.998936</td>\n",
       "    </tr>\n",
       "    <tr>\n",
       "      <th>98</th>\n",
       "      <td>98</td>\n",
       "      <td>1.000400</td>\n",
       "    </tr>\n",
       "    <tr>\n",
       "      <th>99</th>\n",
       "      <td>99</td>\n",
       "      <td>0.999424</td>\n",
       "    </tr>\n",
       "    <tr>\n",
       "      <th>100</th>\n",
       "      <td>100</td>\n",
       "      <td>1.000890</td>\n",
       "    </tr>\n",
       "  </tbody>\n",
       "</table>\n",
       "<p>101 rows × 2 columns</p>\n",
       "</div>"
      ],
      "text/plain": [
       "     Index  Degree per Acquire\n",
       "0        0            1.001380\n",
       "1        1            1.000400\n",
       "2        2            0.999912\n",
       "3        3            0.999912\n",
       "4        4            1.000400\n",
       "..     ...                 ...\n",
       "96      96            1.000890\n",
       "97      97            0.998936\n",
       "98      98            1.000400\n",
       "99      99            0.999424\n",
       "100    100            1.000890\n",
       "\n",
       "[101 rows x 2 columns]"
      ]
     },
     "execution_count": 5,
     "metadata": {},
     "output_type": "execute_result"
    }
   ],
   "source": [
    "Trial6_Degree_Acquire = pd.read_csv('3D ED Degrees per Acquire_t6.csv')\n",
    "Trial6_Degree_Acquire.columns = ['Index', 'Degree per Acquire']\n",
    "Trial6_Degree_Acquire"
   ]
  },
  {
   "cell_type": "code",
   "execution_count": 6,
   "id": "5ef86279",
   "metadata": {},
   "outputs": [],
   "source": [
    "def plotfunc(degrees, Yaxis, Xaxis, title, **kwargs):\n",
    "    fig, ax = plt.subplots(1,2, **kwargs)\n",
    "    ax[0].plot(degrees.iloc[:,1], Yaxis.iloc[:,1], label = 'Y stage', color = 'blue')\n",
    "    ax[1].plot(degrees.iloc[:,1], Xaxis.iloc[:,1], label = 'X stage', color = 'red')\n",
    "    \n",
    "    \n",
    "    ax[0].set(ylabel = 'Y stage position (nm)')\n",
    "    ax[1].set(ylabel = 'X stage position (nm)')\n",
    "    \n",
    "    for i in range(len(ax)):\n",
    "        ax[i].set(title = title,\n",
    "                 xlabel = 'Alpha Angle')\n",
    "        plt.tight_layout()\n",
    "    plt.legend()\n",
    "    \n",
    "    "
   ]
  },
  {
   "cell_type": "code",
   "execution_count": 7,
   "id": "efe47aee",
   "metadata": {},
   "outputs": [
    {
     "name": "stdout",
     "output_type": "stream",
     "text": [
      "115.0\n",
      "89.39999999999418\n"
     ]
    },
    {
     "data": {
      "image/png": "[encoded data removed]",
      "text/plain": [
       "<Figure size 720x288 with 2 Axes>"
      ]
     },
     "metadata": {
      "needs_background": "light"
     },
     "output_type": "display_data"
    }
   ],
   "source": [
    "plotfunc(Trial6_Angles, Trial6_yaxis, Trial6_xaxis, 'Position vs Angle', figsize = (10,4))\n",
    "print(np.max(Trial6_yaxis['Y position (nm)']) - np.min(Trial6_yaxis['Y position (nm)']))\n",
    "print(np.max(Trial6_xaxis['X position (nm)']) - np.min(Trial6_xaxis['X position (nm)']))"
   ]
  },
  {
   "cell_type": "code",
   "execution_count": 8,
   "id": "33caf59d",
   "metadata": {},
   "outputs": [
    {
     "name": "stdout",
     "output_type": "stream",
     "text": [
      "23.519580556255672\n"
     ]
    },
    {
     "data": {
      "image/png": "[encoded data removed]",
      "text/plain": [
       "<Figure size 432x288 with 1 Axes>"
      ]
     },
     "metadata": {
      "needs_background": "light"
     },
     "output_type": "display_data"
    }
   ],
   "source": [
    "plt.plot(Trial6_Angles['Degree'], Trial6_yaxis['Y position (nm)'], color = 'blue', label = 'Y stage')\n",
    "Trial6Ystd = np.std(Trial6_yaxis['Y position (nm)'])\n",
    "plt.fill_between(Trial6_Angles['Degree'], Trial6_yaxis['Y position (nm)'] - Trial6Ystd, Trial6_yaxis['Y position (nm)'] + Trial6Ystd, color = 'blue', alpha = 0.1)\n",
    "plt.xlabel('Alpha Angle')\n",
    "plt.ylabel('Y stage position (nm)')\n",
    "plt.title('Position vs Angle')\n",
    "plt.legend()\n",
    "print(Trial6Ystd)"
   ]
  },
  {
   "cell_type": "code",
   "execution_count": 9,
   "id": "3b614245",
   "metadata": {},
   "outputs": [
    {
     "name": "stdout",
     "output_type": "stream",
     "text": [
      "14.111974584856736\n"
     ]
    },
    {
     "data": {
      "image/png": "[encoded data removed]",
      "text/plain": [
       "<Figure size 432x288 with 1 Axes>"
      ]
     },
     "metadata": {
      "needs_background": "light"
     },
     "output_type": "display_data"
    }
   ],
   "source": [
    "plt.plot(Trial6_Angles['Degree'], Trial6_xaxis['X position (nm)'], color = 'red', label = 'X stage')\n",
    "Trial6Xstd = np.std(Trial6_xaxis['X position (nm)'])\n",
    "plt.fill_between(Trial6_Angles['Degree'], Trial6_xaxis['X position (nm)'] - Trial6Xstd, Trial6_xaxis['X position (nm)'] + Trial6Xstd, color = 'red', alpha = 0.1)\n",
    "plt.xlabel('Alpha Angle')\n",
    "plt.ylabel('X stage position (nm)')\n",
    "plt.title('Position vs Angle')\n",
    "plt.legend()\n",
    "print(Trial6Xstd)"
   ]
  },
  {
   "cell_type": "code",
   "execution_count": 10,
   "id": "46b6faf7",
   "metadata": {},
   "outputs": [
    {
     "data": {
      "text/plain": [
       "0     -57979.2\n",
       "1     -57976.2\n",
       "2     -57973.1\n",
       "3     -57970.1\n",
       "4     -57968.6\n",
       "        ...   \n",
       "96    -57909.5\n",
       "97    -57903.4\n",
       "98    -57897.4\n",
       "99    -57894.3\n",
       "100   -57889.8\n",
       "Name: X position (nm), Length: 101, dtype: float64"
      ]
     },
     "execution_count": 10,
     "metadata": {},
     "output_type": "execute_result"
    }
   ],
   "source": [
    "Trial6_xaxis['X position (nm)']"
   ]
  },
  {
   "cell_type": "code",
   "execution_count": null,
   "id": "1cee5d3c",
   "metadata": {},
   "outputs": [],
   "source": []
  },
  {
   "cell_type": "code",
   "execution_count": 11,
   "id": "31bf840c",
   "metadata": {},
   "outputs": [],
   "source": [
    "def histplot(data, **kwargs):\n",
    "    fig, ax = plt.subplots(1)\n",
    "    ax.hist(data.iloc[:,1], **kwargs)\n",
    "    ax.set(xlabel = 'Change in Degrees', title = 'Degrees per Acquire')\n",
    " \n",
    "    if kwargs.get('density', False):\n",
    "        Mean, Std = norm.fit(data.iloc[:,1])\n",
    "        xmin, xmax = ax.get_xlim()\n",
    "        x = np.linspace(xmin, xmax, len(data.iloc[:,1]))\n",
    "        plt.plot(x, norm.pdf(x, Mean, Std), color = 'red')\n",
    "        ax.set(ylabel = 'Occurences')\n",
    "    else:\n",
    "        ax.set(ylabel = 'Occurences')\n",
    "    print(f'The mean is {np.mean(data.iloc[:,1])} and the standard deviation is {np.std(data.iloc[:,1])} for this trial.')\n",
    "\n"
   ]
  },
  {
   "cell_type": "code",
   "execution_count": 12,
   "id": "ba35a100",
   "metadata": {},
   "outputs": [
    {
     "name": "stdout",
     "output_type": "stream",
     "text": [
      "The mean is 0.9999750891089106 and the standard deviation is 0.0009657494304200425 for this trial.\n"
     ]
    },
    {
     "data": {
      "text/plain": [
       "<matplotlib.legend.Legend at 0x7fd3d32141c0>"
      ]
     },
     "execution_count": 12,
     "metadata": {},
     "output_type": "execute_result"
    },
    {
     "data": {
      "image/png": "[encoded data removed]",
      "text/plain": [
       "<Figure size 432x288 with 1 Axes>"
      ]
     },
     "metadata": {
      "needs_background": "light"
     },
     "output_type": "display_data"
    }
   ],
   "source": [
    "histplot(Trial6_Degree_Acquire, color = 'blue', edgecolor = 'black', label = 'Delta Angle')\n",
    "plt.legend()"
   ]
  },
  {
   "cell_type": "code",
   "execution_count": 13,
   "id": "29dc11fc",
   "metadata": {},
   "outputs": [
    {
     "data": {
      "text/html": [
       "<div>\n",
       "<style scoped>\n",
       "    .dataframe tbody tr th:only-of-type {\n",
       "        vertical-align: middle;\n",
       "    }\n",
       "\n",
       "    .dataframe tbody tr th {\n",
       "        vertical-align: top;\n",
       "    }\n",
       "\n",
       "    .dataframe thead th {\n",
       "        text-align: right;\n",
       "    }\n",
       "</style>\n",
       "<table border=\"1\" class=\"dataframe\">\n",
       "  <thead>\n",
       "    <tr style=\"text-align: right;\">\n",
       "      <th></th>\n",
       "      <th></th>\n",
       "      <th>um</th>\n",
       "    </tr>\n",
       "  </thead>\n",
       "  <tbody>\n",
       "    <tr>\n",
       "      <th>0</th>\n",
       "      <td>Index</td>\n",
       "      <td>Slice0</td>\n",
       "    </tr>\n",
       "    <tr>\n",
       "      <th>1</th>\n",
       "      <td>0</td>\n",
       "      <td>118.19</td>\n",
       "    </tr>\n",
       "    <tr>\n",
       "      <th>2</th>\n",
       "      <td>1</td>\n",
       "      <td>118.185</td>\n",
       "    </tr>\n",
       "    <tr>\n",
       "      <th>3</th>\n",
       "      <td>2</td>\n",
       "      <td>118.179</td>\n",
       "    </tr>\n",
       "    <tr>\n",
       "      <th>4</th>\n",
       "      <td>3</td>\n",
       "      <td>118.177</td>\n",
       "    </tr>\n",
       "    <tr>\n",
       "      <th>...</th>\n",
       "      <td>...</td>\n",
       "      <td>...</td>\n",
       "    </tr>\n",
       "    <tr>\n",
       "      <th>97</th>\n",
       "      <td>96</td>\n",
       "      <td>118.072</td>\n",
       "    </tr>\n",
       "    <tr>\n",
       "      <th>98</th>\n",
       "      <td>97</td>\n",
       "      <td>118.072</td>\n",
       "    </tr>\n",
       "    <tr>\n",
       "      <th>99</th>\n",
       "      <td>98</td>\n",
       "      <td>118.066</td>\n",
       "    </tr>\n",
       "    <tr>\n",
       "      <th>100</th>\n",
       "      <td>99</td>\n",
       "      <td>118.065</td>\n",
       "    </tr>\n",
       "    <tr>\n",
       "      <th>101</th>\n",
       "      <td>100</td>\n",
       "      <td>118.063</td>\n",
       "    </tr>\n",
       "  </tbody>\n",
       "</table>\n",
       "<p>102 rows × 2 columns</p>\n",
       "</div>"
      ],
      "text/plain": [
       "                  um\n",
       "0    Index    Slice0\n",
       "1        0    118.19\n",
       "2        1   118.185\n",
       "3        2   118.179\n",
       "4        3   118.177\n",
       "..     ...       ...\n",
       "97      96   118.072\n",
       "98      97   118.072\n",
       "99      98   118.066\n",
       "100     99   118.065\n",
       "101    100   118.063\n",
       "\n",
       "[102 rows x 2 columns]"
      ]
     },
     "execution_count": 13,
     "metadata": {},
     "output_type": "execute_result"
    }
   ],
   "source": [
    "#Importing the other data\n",
    "Trial7_yaxis = pd.read_csv('Stage y_t7.csv')\n",
    "Trial7_xaxis = pd.read_csv('Stage x_t7.csv')\n",
    "Trial7_Degree_Acquire = pd.read_csv('3D ED Degrees per Acquire_t7.csv')\n",
    "Trial7_Angles = pd.read_csv('3D ED Angle_t7.csv')\n",
    "Trial7_yaxis"
   ]
  },
  {
   "cell_type": "code",
   "execution_count": 14,
   "id": "5fc03c03",
   "metadata": {},
   "outputs": [],
   "source": [
    "def dataclean(data, data_type):\n",
    "    '''\n",
    "    Created this function so that I don't have to manually clean the csv file on the spreadsheet every time,\n",
    "    like I did before on the trial 6 data. Saves more time by running a function.\n",
    "    '''\n",
    "    data = data.iloc[1:]\n",
    "    data.columns = ['Index', data_type]\n",
    "    data[data_type] = pd.to_numeric(data[data_type], errors='coerce')\n",
    "\n",
    "    if data_type == 'Y position (nm)':\n",
    "        data[data_type] = data[data_type] * 1000\n",
    "    elif data_type == 'X position (nm)':\n",
    "        data[data_type] = data[data_type] * 1000\n",
    "    \n",
    "    return data\n"
   ]
  },
  {
   "cell_type": "code",
   "execution_count": 15,
   "id": "b5675a90",
   "metadata": {},
   "outputs": [
    {
     "name": "stderr",
     "output_type": "stream",
     "text": [
      "/var/folders/60/0qvlk8x53174dqfb2_723td40000gn/T/ipykernel_88429/2125034764.py:8: SettingWithCopyWarning: \n",
      "A value is trying to be set on a copy of a slice from a DataFrame.\n",
      "Try using .loc[row_indexer,col_indexer] = value instead\n",
      "\n",
      "See the caveats in the documentation: https://pandas.pydata.org/pandas-docs/stable/user_guide/indexing.html#returning-a-view-versus-a-copy\n",
      "  data[data_type] = pd.to_numeric(data[data_type], errors='coerce')\n",
      "/var/folders/60/0qvlk8x53174dqfb2_723td40000gn/T/ipykernel_88429/2125034764.py:11: SettingWithCopyWarning: \n",
      "A value is trying to be set on a copy of a slice from a DataFrame.\n",
      "Try using .loc[row_indexer,col_indexer] = value instead\n",
      "\n",
      "See the caveats in the documentation: https://pandas.pydata.org/pandas-docs/stable/user_guide/indexing.html#returning-a-view-versus-a-copy\n",
      "  data[data_type] = data[data_type] * 1000\n"
     ]
    },
    {
     "data": {
      "text/html": [
       "<div>\n",
       "<style scoped>\n",
       "    .dataframe tbody tr th:only-of-type {\n",
       "        vertical-align: middle;\n",
       "    }\n",
       "\n",
       "    .dataframe tbody tr th {\n",
       "        vertical-align: top;\n",
       "    }\n",
       "\n",
       "    .dataframe thead th {\n",
       "        text-align: right;\n",
       "    }\n",
       "</style>\n",
       "<table border=\"1\" class=\"dataframe\">\n",
       "  <thead>\n",
       "    <tr style=\"text-align: right;\">\n",
       "      <th></th>\n",
       "      <th>Index</th>\n",
       "      <th>Y position (nm)</th>\n",
       "    </tr>\n",
       "  </thead>\n",
       "  <tbody>\n",
       "    <tr>\n",
       "      <th>1</th>\n",
       "      <td>0</td>\n",
       "      <td>118190.0</td>\n",
       "    </tr>\n",
       "    <tr>\n",
       "      <th>2</th>\n",
       "      <td>1</td>\n",
       "      <td>118185.0</td>\n",
       "    </tr>\n",
       "    <tr>\n",
       "      <th>3</th>\n",
       "      <td>2</td>\n",
       "      <td>118179.0</td>\n",
       "    </tr>\n",
       "    <tr>\n",
       "      <th>4</th>\n",
       "      <td>3</td>\n",
       "      <td>118177.0</td>\n",
       "    </tr>\n",
       "    <tr>\n",
       "      <th>5</th>\n",
       "      <td>4</td>\n",
       "      <td>118173.0</td>\n",
       "    </tr>\n",
       "    <tr>\n",
       "      <th>...</th>\n",
       "      <td>...</td>\n",
       "      <td>...</td>\n",
       "    </tr>\n",
       "    <tr>\n",
       "      <th>97</th>\n",
       "      <td>96</td>\n",
       "      <td>118072.0</td>\n",
       "    </tr>\n",
       "    <tr>\n",
       "      <th>98</th>\n",
       "      <td>97</td>\n",
       "      <td>118072.0</td>\n",
       "    </tr>\n",
       "    <tr>\n",
       "      <th>99</th>\n",
       "      <td>98</td>\n",
       "      <td>118066.0</td>\n",
       "    </tr>\n",
       "    <tr>\n",
       "      <th>100</th>\n",
       "      <td>99</td>\n",
       "      <td>118065.0</td>\n",
       "    </tr>\n",
       "    <tr>\n",
       "      <th>101</th>\n",
       "      <td>100</td>\n",
       "      <td>118063.0</td>\n",
       "    </tr>\n",
       "  </tbody>\n",
       "</table>\n",
       "<p>101 rows × 2 columns</p>\n",
       "</div>"
      ],
      "text/plain": [
       "    Index  Y position (nm)\n",
       "1       0         118190.0\n",
       "2       1         118185.0\n",
       "3       2         118179.0\n",
       "4       3         118177.0\n",
       "5       4         118173.0\n",
       "..    ...              ...\n",
       "97     96         118072.0\n",
       "98     97         118072.0\n",
       "99     98         118066.0\n",
       "100    99         118065.0\n",
       "101   100         118063.0\n",
       "\n",
       "[101 rows x 2 columns]"
      ]
     },
     "execution_count": 15,
     "metadata": {},
     "output_type": "execute_result"
    }
   ],
   "source": [
    "Trial7_yaxis = dataclean(Trial7_yaxis, 'Y position (nm)')\n",
    "Trial7_yaxis"
   ]
  },
  {
   "cell_type": "code",
   "execution_count": 16,
   "id": "8a9d3f6c",
   "metadata": {},
   "outputs": [
    {
     "name": "stderr",
     "output_type": "stream",
     "text": [
      "/var/folders/60/0qvlk8x53174dqfb2_723td40000gn/T/ipykernel_88429/2125034764.py:8: SettingWithCopyWarning: \n",
      "A value is trying to be set on a copy of a slice from a DataFrame.\n",
      "Try using .loc[row_indexer,col_indexer] = value instead\n",
      "\n",
      "See the caveats in the documentation: https://pandas.pydata.org/pandas-docs/stable/user_guide/indexing.html#returning-a-view-versus-a-copy\n",
      "  data[data_type] = pd.to_numeric(data[data_type], errors='coerce')\n",
      "/var/folders/60/0qvlk8x53174dqfb2_723td40000gn/T/ipykernel_88429/2125034764.py:13: SettingWithCopyWarning: \n",
      "A value is trying to be set on a copy of a slice from a DataFrame.\n",
      "Try using .loc[row_indexer,col_indexer] = value instead\n",
      "\n",
      "See the caveats in the documentation: https://pandas.pydata.org/pandas-docs/stable/user_guide/indexing.html#returning-a-view-versus-a-copy\n",
      "  data[data_type] = data[data_type] * 1000\n"
     ]
    },
    {
     "data": {
      "text/html": [
       "<div>\n",
       "<style scoped>\n",
       "    .dataframe tbody tr th:only-of-type {\n",
       "        vertical-align: middle;\n",
       "    }\n",
       "\n",
       "    .dataframe tbody tr th {\n",
       "        vertical-align: top;\n",
       "    }\n",
       "\n",
       "    .dataframe thead th {\n",
       "        text-align: right;\n",
       "    }\n",
       "</style>\n",
       "<table border=\"1\" class=\"dataframe\">\n",
       "  <thead>\n",
       "    <tr style=\"text-align: right;\">\n",
       "      <th></th>\n",
       "      <th>Index</th>\n",
       "      <th>X position (nm)</th>\n",
       "    </tr>\n",
       "  </thead>\n",
       "  <tbody>\n",
       "    <tr>\n",
       "      <th>1</th>\n",
       "      <td>0</td>\n",
       "      <td>-57933.7</td>\n",
       "    </tr>\n",
       "    <tr>\n",
       "      <th>2</th>\n",
       "      <td>1</td>\n",
       "      <td>-57929.2</td>\n",
       "    </tr>\n",
       "    <tr>\n",
       "      <th>3</th>\n",
       "      <td>2</td>\n",
       "      <td>-57929.2</td>\n",
       "    </tr>\n",
       "    <tr>\n",
       "      <th>4</th>\n",
       "      <td>3</td>\n",
       "      <td>-57923.1</td>\n",
       "    </tr>\n",
       "    <tr>\n",
       "      <th>5</th>\n",
       "      <td>4</td>\n",
       "      <td>-57923.1</td>\n",
       "    </tr>\n",
       "    <tr>\n",
       "      <th>...</th>\n",
       "      <td>...</td>\n",
       "      <td>...</td>\n",
       "    </tr>\n",
       "    <tr>\n",
       "      <th>97</th>\n",
       "      <td>96</td>\n",
       "      <td>-57868.6</td>\n",
       "    </tr>\n",
       "    <tr>\n",
       "      <th>98</th>\n",
       "      <td>97</td>\n",
       "      <td>-57865.5</td>\n",
       "    </tr>\n",
       "    <tr>\n",
       "      <th>99</th>\n",
       "      <td>98</td>\n",
       "      <td>-57858.0</td>\n",
       "    </tr>\n",
       "    <tr>\n",
       "      <th>100</th>\n",
       "      <td>99</td>\n",
       "      <td>-57850.4</td>\n",
       "    </tr>\n",
       "    <tr>\n",
       "      <th>101</th>\n",
       "      <td>100</td>\n",
       "      <td>-57844.3</td>\n",
       "    </tr>\n",
       "  </tbody>\n",
       "</table>\n",
       "<p>101 rows × 2 columns</p>\n",
       "</div>"
      ],
      "text/plain": [
       "    Index  X position (nm)\n",
       "1       0         -57933.7\n",
       "2       1         -57929.2\n",
       "3       2         -57929.2\n",
       "4       3         -57923.1\n",
       "5       4         -57923.1\n",
       "..    ...              ...\n",
       "97     96         -57868.6\n",
       "98     97         -57865.5\n",
       "99     98         -57858.0\n",
       "100    99         -57850.4\n",
       "101   100         -57844.3\n",
       "\n",
       "[101 rows x 2 columns]"
      ]
     },
     "execution_count": 16,
     "metadata": {},
     "output_type": "execute_result"
    }
   ],
   "source": [
    "#Now for the rest of the data for trial 7\n",
    "Trial7_xaxis = dataclean(Trial7_xaxis, 'X position (nm)')\n",
    "Trial7_xaxis"
   ]
  },
  {
   "cell_type": "code",
   "execution_count": 17,
   "id": "6da3c28f",
   "metadata": {},
   "outputs": [
    {
     "name": "stderr",
     "output_type": "stream",
     "text": [
      "/var/folders/60/0qvlk8x53174dqfb2_723td40000gn/T/ipykernel_88429/2125034764.py:8: SettingWithCopyWarning: \n",
      "A value is trying to be set on a copy of a slice from a DataFrame.\n",
      "Try using .loc[row_indexer,col_indexer] = value instead\n",
      "\n",
      "See the caveats in the documentation: https://pandas.pydata.org/pandas-docs/stable/user_guide/indexing.html#returning-a-view-versus-a-copy\n",
      "  data[data_type] = pd.to_numeric(data[data_type], errors='coerce')\n"
     ]
    },
    {
     "data": {
      "text/html": [
       "<div>\n",
       "<style scoped>\n",
       "    .dataframe tbody tr th:only-of-type {\n",
       "        vertical-align: middle;\n",
       "    }\n",
       "\n",
       "    .dataframe tbody tr th {\n",
       "        vertical-align: top;\n",
       "    }\n",
       "\n",
       "    .dataframe thead th {\n",
       "        text-align: right;\n",
       "    }\n",
       "</style>\n",
       "<table border=\"1\" class=\"dataframe\">\n",
       "  <thead>\n",
       "    <tr style=\"text-align: right;\">\n",
       "      <th></th>\n",
       "      <th>Index</th>\n",
       "      <th>Degree per Acquire</th>\n",
       "    </tr>\n",
       "  </thead>\n",
       "  <tbody>\n",
       "    <tr>\n",
       "      <th>1</th>\n",
       "      <td>0</td>\n",
       "      <td>1.001380</td>\n",
       "    </tr>\n",
       "    <tr>\n",
       "      <th>2</th>\n",
       "      <td>1</td>\n",
       "      <td>1.000890</td>\n",
       "    </tr>\n",
       "    <tr>\n",
       "      <th>3</th>\n",
       "      <td>2</td>\n",
       "      <td>0.999424</td>\n",
       "    </tr>\n",
       "    <tr>\n",
       "      <th>4</th>\n",
       "      <td>3</td>\n",
       "      <td>0.999912</td>\n",
       "    </tr>\n",
       "    <tr>\n",
       "      <th>5</th>\n",
       "      <td>4</td>\n",
       "      <td>1.000400</td>\n",
       "    </tr>\n",
       "    <tr>\n",
       "      <th>...</th>\n",
       "      <td>...</td>\n",
       "      <td>...</td>\n",
       "    </tr>\n",
       "    <tr>\n",
       "      <th>97</th>\n",
       "      <td>96</td>\n",
       "      <td>1.000890</td>\n",
       "    </tr>\n",
       "    <tr>\n",
       "      <th>98</th>\n",
       "      <td>97</td>\n",
       "      <td>1.000400</td>\n",
       "    </tr>\n",
       "    <tr>\n",
       "      <th>99</th>\n",
       "      <td>98</td>\n",
       "      <td>0.998448</td>\n",
       "    </tr>\n",
       "    <tr>\n",
       "      <th>100</th>\n",
       "      <td>99</td>\n",
       "      <td>1.000400</td>\n",
       "    </tr>\n",
       "    <tr>\n",
       "      <th>101</th>\n",
       "      <td>100</td>\n",
       "      <td>1.000400</td>\n",
       "    </tr>\n",
       "  </tbody>\n",
       "</table>\n",
       "<p>101 rows × 2 columns</p>\n",
       "</div>"
      ],
      "text/plain": [
       "    Index  Degree per Acquire\n",
       "1       0            1.001380\n",
       "2       1            1.000890\n",
       "3       2            0.999424\n",
       "4       3            0.999912\n",
       "5       4            1.000400\n",
       "..    ...                 ...\n",
       "97     96            1.000890\n",
       "98     97            1.000400\n",
       "99     98            0.998448\n",
       "100    99            1.000400\n",
       "101   100            1.000400\n",
       "\n",
       "[101 rows x 2 columns]"
      ]
     },
     "execution_count": 17,
     "metadata": {},
     "output_type": "execute_result"
    }
   ],
   "source": [
    "Trial7_Degree_Acquire = dataclean(Trial7_Degree_Acquire, 'Degree per Acquire')\n",
    "Trial7_Degree_Acquire"
   ]
  },
  {
   "cell_type": "code",
   "execution_count": 18,
   "id": "6b06edb9",
   "metadata": {},
   "outputs": [
    {
     "name": "stderr",
     "output_type": "stream",
     "text": [
      "/var/folders/60/0qvlk8x53174dqfb2_723td40000gn/T/ipykernel_88429/2125034764.py:8: SettingWithCopyWarning: \n",
      "A value is trying to be set on a copy of a slice from a DataFrame.\n",
      "Try using .loc[row_indexer,col_indexer] = value instead\n",
      "\n",
      "See the caveats in the documentation: https://pandas.pydata.org/pandas-docs/stable/user_guide/indexing.html#returning-a-view-versus-a-copy\n",
      "  data[data_type] = pd.to_numeric(data[data_type], errors='coerce')\n"
     ]
    },
    {
     "data": {
      "text/html": [
       "<div>\n",
       "<style scoped>\n",
       "    .dataframe tbody tr th:only-of-type {\n",
       "        vertical-align: middle;\n",
       "    }\n",
       "\n",
       "    .dataframe tbody tr th {\n",
       "        vertical-align: top;\n",
       "    }\n",
       "\n",
       "    .dataframe thead th {\n",
       "        text-align: right;\n",
       "    }\n",
       "</style>\n",
       "<table border=\"1\" class=\"dataframe\">\n",
       "  <thead>\n",
       "    <tr style=\"text-align: right;\">\n",
       "      <th></th>\n",
       "      <th>Index</th>\n",
       "      <th>Degree</th>\n",
       "    </tr>\n",
       "  </thead>\n",
       "  <tbody>\n",
       "    <tr>\n",
       "      <th>1</th>\n",
       "      <td>0</td>\n",
       "      <td>49.0001</td>\n",
       "    </tr>\n",
       "    <tr>\n",
       "      <th>2</th>\n",
       "      <td>1</td>\n",
       "      <td>47.9992</td>\n",
       "    </tr>\n",
       "    <tr>\n",
       "      <th>3</th>\n",
       "      <td>2</td>\n",
       "      <td>46.9998</td>\n",
       "    </tr>\n",
       "    <tr>\n",
       "      <th>4</th>\n",
       "      <td>3</td>\n",
       "      <td>45.9999</td>\n",
       "    </tr>\n",
       "    <tr>\n",
       "      <th>5</th>\n",
       "      <td>4</td>\n",
       "      <td>44.9995</td>\n",
       "    </tr>\n",
       "    <tr>\n",
       "      <th>...</th>\n",
       "      <td>...</td>\n",
       "      <td>...</td>\n",
       "    </tr>\n",
       "    <tr>\n",
       "      <th>97</th>\n",
       "      <td>96</td>\n",
       "      <td>-46.9968</td>\n",
       "    </tr>\n",
       "    <tr>\n",
       "      <th>98</th>\n",
       "      <td>97</td>\n",
       "      <td>-47.9972</td>\n",
       "    </tr>\n",
       "    <tr>\n",
       "      <th>99</th>\n",
       "      <td>98</td>\n",
       "      <td>-48.9957</td>\n",
       "    </tr>\n",
       "    <tr>\n",
       "      <th>100</th>\n",
       "      <td>99</td>\n",
       "      <td>-49.9961</td>\n",
       "    </tr>\n",
       "    <tr>\n",
       "      <th>101</th>\n",
       "      <td>100</td>\n",
       "      <td>-50.9965</td>\n",
       "    </tr>\n",
       "  </tbody>\n",
       "</table>\n",
       "<p>101 rows × 2 columns</p>\n",
       "</div>"
      ],
      "text/plain": [
       "    Index   Degree\n",
       "1       0  49.0001\n",
       "2       1  47.9992\n",
       "3       2  46.9998\n",
       "4       3  45.9999\n",
       "5       4  44.9995\n",
       "..    ...      ...\n",
       "97     96 -46.9968\n",
       "98     97 -47.9972\n",
       "99     98 -48.9957\n",
       "100    99 -49.9961\n",
       "101   100 -50.9965\n",
       "\n",
       "[101 rows x 2 columns]"
      ]
     },
     "execution_count": 18,
     "metadata": {},
     "output_type": "execute_result"
    }
   ],
   "source": [
    "Trial7_Angles = dataclean(Trial7_Angles, 'Degree')\n",
    "Trial7_Angles"
   ]
  },
  {
   "cell_type": "code",
   "execution_count": 19,
   "id": "c6ed8ded",
   "metadata": {},
   "outputs": [
    {
     "data": {
      "image/png": "[encoded data removed]",
      "text/plain": [
       "<Figure size 720x288 with 2 Axes>"
      ]
     },
     "metadata": {
      "needs_background": "light"
     },
     "output_type": "display_data"
    }
   ],
   "source": [
    "plotfunc(Trial7_Angles, Trial7_yaxis, Trial7_xaxis, 'Position vs Angle', figsize = (10,4) )"
   ]
  },
  {
   "cell_type": "code",
   "execution_count": 20,
   "id": "86c0e80d",
   "metadata": {},
   "outputs": [
    {
     "name": "stdout",
     "output_type": "stream",
     "text": [
      "The mean is 0.999980178217821 and the standard deviation is 0.0009499045954808336 for this trial.\n"
     ]
    },
    {
     "data": {
      "image/png": "[encoded data removed]",
      "text/plain": [
       "<Figure size 432x288 with 1 Axes>"
      ]
     },
     "metadata": {
      "needs_background": "light"
     },
     "output_type": "display_data"
    }
   ],
   "source": [
    "histplot(Trial7_Degree_Acquire, bins = 10, color = 'blue')"
   ]
  },
  {
   "cell_type": "code",
   "execution_count": 21,
   "id": "082f3434",
   "metadata": {},
   "outputs": [
    {
     "data": {
      "text/html": [
       "<div>\n",
       "<style scoped>\n",
       "    .dataframe tbody tr th:only-of-type {\n",
       "        vertical-align: middle;\n",
       "    }\n",
       "\n",
       "    .dataframe tbody tr th {\n",
       "        vertical-align: top;\n",
       "    }\n",
       "\n",
       "    .dataframe thead th {\n",
       "        text-align: right;\n",
       "    }\n",
       "</style>\n",
       "<table border=\"1\" class=\"dataframe\">\n",
       "  <thead>\n",
       "    <tr style=\"text-align: right;\">\n",
       "      <th></th>\n",
       "      <th></th>\n",
       "      <th>um</th>\n",
       "    </tr>\n",
       "  </thead>\n",
       "  <tbody>\n",
       "    <tr>\n",
       "      <th>0</th>\n",
       "      <td>Index</td>\n",
       "      <td>Slice0</td>\n",
       "    </tr>\n",
       "    <tr>\n",
       "      <th>1</th>\n",
       "      <td>0</td>\n",
       "      <td>118.01</td>\n",
       "    </tr>\n",
       "    <tr>\n",
       "      <th>2</th>\n",
       "      <td>1</td>\n",
       "      <td>118.005</td>\n",
       "    </tr>\n",
       "    <tr>\n",
       "      <th>3</th>\n",
       "      <td>2</td>\n",
       "      <td>118.001</td>\n",
       "    </tr>\n",
       "    <tr>\n",
       "      <th>4</th>\n",
       "      <td>3</td>\n",
       "      <td>117.997</td>\n",
       "    </tr>\n",
       "    <tr>\n",
       "      <th>...</th>\n",
       "      <td>...</td>\n",
       "      <td>...</td>\n",
       "    </tr>\n",
       "    <tr>\n",
       "      <th>97</th>\n",
       "      <td>96</td>\n",
       "      <td>117.898</td>\n",
       "    </tr>\n",
       "    <tr>\n",
       "      <th>98</th>\n",
       "      <td>97</td>\n",
       "      <td>117.895</td>\n",
       "    </tr>\n",
       "    <tr>\n",
       "      <th>99</th>\n",
       "      <td>98</td>\n",
       "      <td>117.894</td>\n",
       "    </tr>\n",
       "    <tr>\n",
       "      <th>100</th>\n",
       "      <td>99</td>\n",
       "      <td>117.891</td>\n",
       "    </tr>\n",
       "    <tr>\n",
       "      <th>101</th>\n",
       "      <td>100</td>\n",
       "      <td>117.888</td>\n",
       "    </tr>\n",
       "  </tbody>\n",
       "</table>\n",
       "<p>102 rows × 2 columns</p>\n",
       "</div>"
      ],
      "text/plain": [
       "                  um\n",
       "0    Index    Slice0\n",
       "1        0    118.01\n",
       "2        1   118.005\n",
       "3        2   118.001\n",
       "4        3   117.997\n",
       "..     ...       ...\n",
       "97      96   117.898\n",
       "98      97   117.895\n",
       "99      98   117.894\n",
       "100     99   117.891\n",
       "101    100   117.888\n",
       "\n",
       "[102 rows x 2 columns]"
      ]
     },
     "execution_count": 21,
     "metadata": {},
     "output_type": "execute_result"
    }
   ],
   "source": [
    "#Now for trial 8 \n",
    "#Importing the other data\n",
    "Trial8_yaxis = pd.read_csv('Stage y_t8.csv')\n",
    "Trial8_xaxis = pd.read_csv('Stage x_t8.csv')\n",
    "Trial8_Degree_Acquire = pd.read_csv('3D ED Degrees per Acquire_t8.csv')\n",
    "Trial8_Angles = pd.read_csv('3D ED Angle_t8.csv')\n",
    "Trial8_yaxis"
   ]
  },
  {
   "cell_type": "code",
   "execution_count": 22,
   "id": "72342808",
   "metadata": {},
   "outputs": [
    {
     "name": "stderr",
     "output_type": "stream",
     "text": [
      "/var/folders/60/0qvlk8x53174dqfb2_723td40000gn/T/ipykernel_88429/2125034764.py:8: SettingWithCopyWarning: \n",
      "A value is trying to be set on a copy of a slice from a DataFrame.\n",
      "Try using .loc[row_indexer,col_indexer] = value instead\n",
      "\n",
      "See the caveats in the documentation: https://pandas.pydata.org/pandas-docs/stable/user_guide/indexing.html#returning-a-view-versus-a-copy\n",
      "  data[data_type] = pd.to_numeric(data[data_type], errors='coerce')\n",
      "/var/folders/60/0qvlk8x53174dqfb2_723td40000gn/T/ipykernel_88429/2125034764.py:11: SettingWithCopyWarning: \n",
      "A value is trying to be set on a copy of a slice from a DataFrame.\n",
      "Try using .loc[row_indexer,col_indexer] = value instead\n",
      "\n",
      "See the caveats in the documentation: https://pandas.pydata.org/pandas-docs/stable/user_guide/indexing.html#returning-a-view-versus-a-copy\n",
      "  data[data_type] = data[data_type] * 1000\n",
      "/var/folders/60/0qvlk8x53174dqfb2_723td40000gn/T/ipykernel_88429/2125034764.py:13: SettingWithCopyWarning: \n",
      "A value is trying to be set on a copy of a slice from a DataFrame.\n",
      "Try using .loc[row_indexer,col_indexer] = value instead\n",
      "\n",
      "See the caveats in the documentation: https://pandas.pydata.org/pandas-docs/stable/user_guide/indexing.html#returning-a-view-versus-a-copy\n",
      "  data[data_type] = data[data_type] * 1000\n"
     ]
    },
    {
     "data": {
      "text/html": [
       "<div>\n",
       "<style scoped>\n",
       "    .dataframe tbody tr th:only-of-type {\n",
       "        vertical-align: middle;\n",
       "    }\n",
       "\n",
       "    .dataframe tbody tr th {\n",
       "        vertical-align: top;\n",
       "    }\n",
       "\n",
       "    .dataframe thead th {\n",
       "        text-align: right;\n",
       "    }\n",
       "</style>\n",
       "<table border=\"1\" class=\"dataframe\">\n",
       "  <thead>\n",
       "    <tr style=\"text-align: right;\">\n",
       "      <th></th>\n",
       "      <th>Index</th>\n",
       "      <th>Y position (nm)</th>\n",
       "    </tr>\n",
       "  </thead>\n",
       "  <tbody>\n",
       "    <tr>\n",
       "      <th>1</th>\n",
       "      <td>0</td>\n",
       "      <td>118010.0</td>\n",
       "    </tr>\n",
       "    <tr>\n",
       "      <th>2</th>\n",
       "      <td>1</td>\n",
       "      <td>118005.0</td>\n",
       "    </tr>\n",
       "    <tr>\n",
       "      <th>3</th>\n",
       "      <td>2</td>\n",
       "      <td>118001.0</td>\n",
       "    </tr>\n",
       "    <tr>\n",
       "      <th>4</th>\n",
       "      <td>3</td>\n",
       "      <td>117997.0</td>\n",
       "    </tr>\n",
       "    <tr>\n",
       "      <th>5</th>\n",
       "      <td>4</td>\n",
       "      <td>117993.0</td>\n",
       "    </tr>\n",
       "    <tr>\n",
       "      <th>...</th>\n",
       "      <td>...</td>\n",
       "      <td>...</td>\n",
       "    </tr>\n",
       "    <tr>\n",
       "      <th>97</th>\n",
       "      <td>96</td>\n",
       "      <td>117898.0</td>\n",
       "    </tr>\n",
       "    <tr>\n",
       "      <th>98</th>\n",
       "      <td>97</td>\n",
       "      <td>117895.0</td>\n",
       "    </tr>\n",
       "    <tr>\n",
       "      <th>99</th>\n",
       "      <td>98</td>\n",
       "      <td>117894.0</td>\n",
       "    </tr>\n",
       "    <tr>\n",
       "      <th>100</th>\n",
       "      <td>99</td>\n",
       "      <td>117891.0</td>\n",
       "    </tr>\n",
       "    <tr>\n",
       "      <th>101</th>\n",
       "      <td>100</td>\n",
       "      <td>117888.0</td>\n",
       "    </tr>\n",
       "  </tbody>\n",
       "</table>\n",
       "<p>101 rows × 2 columns</p>\n",
       "</div>"
      ],
      "text/plain": [
       "    Index  Y position (nm)\n",
       "1       0         118010.0\n",
       "2       1         118005.0\n",
       "3       2         118001.0\n",
       "4       3         117997.0\n",
       "5       4         117993.0\n",
       "..    ...              ...\n",
       "97     96         117898.0\n",
       "98     97         117895.0\n",
       "99     98         117894.0\n",
       "100    99         117891.0\n",
       "101   100         117888.0\n",
       "\n",
       "[101 rows x 2 columns]"
      ]
     },
     "execution_count": 22,
     "metadata": {},
     "output_type": "execute_result"
    }
   ],
   "source": [
    "Trial8_yaxis = dataclean(Trial8_yaxis, 'Y position (nm)')\n",
    "Trial8_xaxis = dataclean(Trial8_xaxis, 'X position (nm)')\n",
    "Trial8_Degree_Acquire = dataclean(Trial8_Degree_Acquire, 'Degree per Acquire')\n",
    "Trial8_Angles = dataclean(Trial8_Angles, 'Degree')\n",
    "Trial8_yaxis"
   ]
  },
  {
   "cell_type": "code",
   "execution_count": 23,
   "id": "33eecbe4",
   "metadata": {},
   "outputs": [
    {
     "data": {
      "image/png": "[encoded data removed]",
      "text/plain": [
       "<Figure size 720x288 with 2 Axes>"
      ]
     },
     "metadata": {
      "needs_background": "light"
     },
     "output_type": "display_data"
    }
   ],
   "source": [
    "plotfunc(Trial8_Angles, Trial8_yaxis, Trial8_xaxis, 'Position vs Angle', figsize = (10,4))"
   ]
  },
  {
   "cell_type": "code",
   "execution_count": 24,
   "id": "d8a771c5",
   "metadata": {},
   "outputs": [
    {
     "name": "stdout",
     "output_type": "stream",
     "text": [
      "The mean is 0.9999703762376233 and the standard deviation is 0.0009625084682819941 for this trial.\n"
     ]
    },
    {
     "data": {
      "image/png": "[encoded data removed]",
      "text/plain": [
       "<Figure size 432x288 with 1 Axes>"
      ]
     },
     "metadata": {
      "needs_background": "light"
     },
     "output_type": "display_data"
    }
   ],
   "source": [
    "histplot(Trial8_Degree_Acquire, bins = 10, color = 'blue', edgecolor = 'black')"
   ]
  },
  {
   "cell_type": "code",
   "execution_count": 25,
   "id": "476525f4",
   "metadata": {},
   "outputs": [
    {
     "data": {
      "text/plain": [
       "[<matplotlib.lines.Line2D at 0x7fd3d33c27f0>]"
      ]
     },
     "execution_count": 25,
     "metadata": {},
     "output_type": "execute_result"
    },
    {
     "data": {
      "image/png": "[encoded data removed]",
      "text/plain": [
       "<Figure size 432x288 with 1 Axes>"
      ]
     },
     "metadata": {
      "needs_background": "light"
     },
     "output_type": "display_data"
    }
   ],
   "source": [
    "plt.plot(Trial8_Degree_Acquire['Degree per Acquire'])"
   ]
  },
  {
   "cell_type": "code",
   "execution_count": 26,
   "id": "1b1a1727",
   "metadata": {},
   "outputs": [
    {
     "data": {
      "text/plain": [
       "<matplotlib.legend.Legend at 0x7fd3c02e44c0>"
      ]
     },
     "execution_count": 26,
     "metadata": {},
     "output_type": "execute_result"
    },
    {
     "data": {
      "image/png": "[encoded data removed]",
      "text/plain": [
       "<Figure size 432x288 with 1 Axes>"
      ]
     },
     "metadata": {
      "needs_background": "light"
     },
     "output_type": "display_data"
    }
   ],
   "source": [
    "plt.plot(Trial6_Angles['Degree'], Trial6_yaxis['Y position (nm)'], color = 'red', label = 'Trial 6')\n",
    "plt.plot(Trial7_Angles['Degree'], Trial7_yaxis['Y position (nm)'], color = 'blue', label = 'Trial 7')\n",
    "plt.plot(Trial8_Angles['Degree'], Trial8_yaxis['Y position (nm)'], color = 'orange', label = 'Trial 8')\n",
    "plt.title('Change in Y for different trials')\n",
    "plt.xlabel('Alpha Angle')\n",
    "plt.ylabel('Y position (nm)')\n",
    "plt.legend()\n",
    "\n",
    "\n"
   ]
  },
  {
   "cell_type": "code",
   "execution_count": 27,
   "id": "902bebe2",
   "metadata": {},
   "outputs": [
    {
     "data": {
      "text/plain": [
       "<matplotlib.legend.Legend at 0x7fd3f0e0f8b0>"
      ]
     },
     "execution_count": 27,
     "metadata": {},
     "output_type": "execute_result"
    },
    {
     "data": {
      "image/png": "[encoded data removed]",
      "text/plain": [
       "<Figure size 432x288 with 1 Axes>"
      ]
     },
     "metadata": {
      "needs_background": "light"
     },
     "output_type": "display_data"
    }
   ],
   "source": [
    "plt.plot(Trial6_Angles['Degree'], Trial6_xaxis['X position (nm)'], color = 'red', label = 'Trial 6')\n",
    "plt.plot(Trial7_Angles['Degree'], Trial7_xaxis['X position (nm)'], color = 'blue', label = 'Trial 7')\n",
    "plt.plot(Trial8_Angles['Degree'], Trial8_xaxis['X position (nm)'], color = 'orange', label = 'Trial 8')\n",
    "plt.title('Change in X for different trials')\n",
    "plt.xlabel('Alpha Angle')\n",
    "plt.ylabel('X position (nm)')\n",
    "plt.legend()"
   ]
  },
  {
   "cell_type": "code",
   "execution_count": 28,
   "id": "329f0318",
   "metadata": {},
   "outputs": [],
   "source": [
    "#Looking at the Z-data\n",
    "Trial6_zaxis = pd.read_csv('Stage z_t6.csv')\n",
    "Trial7_zaxis = pd.read_csv('Stage z_t7.csv')\n",
    "Trial8_zaxis = pd.read_csv('Stage z_t8.csv')"
   ]
  },
  {
   "cell_type": "code",
   "execution_count": 29,
   "id": "7fbb819a",
   "metadata": {},
   "outputs": [
    {
     "name": "stderr",
     "output_type": "stream",
     "text": [
      "/var/folders/60/0qvlk8x53174dqfb2_723td40000gn/T/ipykernel_88429/2125034764.py:8: SettingWithCopyWarning: \n",
      "A value is trying to be set on a copy of a slice from a DataFrame.\n",
      "Try using .loc[row_indexer,col_indexer] = value instead\n",
      "\n",
      "See the caveats in the documentation: https://pandas.pydata.org/pandas-docs/stable/user_guide/indexing.html#returning-a-view-versus-a-copy\n",
      "  data[data_type] = pd.to_numeric(data[data_type], errors='coerce')\n"
     ]
    }
   ],
   "source": [
    "Trial6_zaxis = dataclean(Trial6_zaxis, 'Z position (nm)')\n",
    "Trial7_zaxis = dataclean(Trial7_zaxis, 'Z position (nm)')\n",
    "Trial8_zaxis = dataclean(Trial8_zaxis, 'Z position (nm)')"
   ]
  },
  {
   "cell_type": "code",
   "execution_count": 42,
   "id": "119b1d4d",
   "metadata": {},
   "outputs": [
    {
     "name": "stdout",
     "output_type": "stream",
     "text": [
      "25.045905167450545\n"
     ]
    }
   ],
   "source": [
    "Trial6Ystd = np.std(Trial6_yaxis['Y position (nm)'])\n",
    "Trial7Ystd = np.std(Trial7_yaxis['Y position (nm)'])\n",
    "Trial8Ystd = np.std(Trial8_yaxis['Y position (nm)'])\n",
    "Error_in_y = [Trial6Ystd, Trial7Ystd, Trial8Ystd]\n",
    "print(np.mean(Error_in_y))"
   ]
  },
  {
   "cell_type": "code",
   "execution_count": 31,
   "id": "2be234af",
   "metadata": {},
   "outputs": [
    {
     "data": {
      "text/plain": [
       "<matplotlib.collections.PolyCollection at 0x7fd3d3433d60>"
      ]
     },
     "execution_count": 31,
     "metadata": {},
     "output_type": "execute_result"
    },
    {
     "data": {
      "image/png": "[encoded data removed]",
      "text/plain": [
       "<Figure size 432x288 with 1 Axes>"
      ]
     },
     "metadata": {
      "needs_background": "light"
     },
     "output_type": "display_data"
    }
   ],
   "source": [
    "plt.plot(Trial6_Angles['Degree'], Trial6_yaxis['Y position (nm)'], color = 'red', label = 'Trial 6')\n",
    "plt.plot(Trial7_Angles['Degree'], Trial7_yaxis['Y position (nm)'], color = 'blue', label = 'Trial 7')\n",
    "plt.plot(Trial8_Angles['Degree'], Trial8_yaxis['Y position (nm)'], color = 'orange', label = 'Trial 8')\n",
    "plt.title('Change in Y for different trials')\n",
    "plt.xlabel('Alpha Angle')\n",
    "plt.ylabel('Y position (nm)')\n",
    "plt.legend()\n",
    "\n",
    "plt.fill_between(Trial6_Angles['Degree'], Trial6_yaxis['Y position (nm)'] - Trial6Ystd, Trial6_yaxis['Y position (nm)'] + Trial6Ystd, color = 'red', alpha = 0.1)\n",
    "plt.fill_between(Trial7_Angles['Degree'], Trial7_yaxis['Y position (nm)'] - Trial7Ystd, Trial7_yaxis['Y position (nm)'] + Trial7Ystd, color = 'blue', alpha = 0.1)\n",
    "plt.fill_between(Trial8_Angles['Degree'], Trial8_yaxis['Y position (nm)'] - Trial8Ystd, Trial8_yaxis['Y position (nm)'] + Trial8Ystd, color = 'orange', alpha = 0.1)"
   ]
  },
  {
   "cell_type": "code",
   "execution_count": 43,
   "id": "77f74e06",
   "metadata": {},
   "outputs": [
    {
     "name": "stdout",
     "output_type": "stream",
     "text": [
      "13.65019899422689\n"
     ]
    }
   ],
   "source": [
    "Trial6Xstd = np.std(Trial6_xaxis['X position (nm)'])\n",
    "Trial7Xstd = np.std(Trial7_xaxis['X position (nm)'])\n",
    "Trial8Xstd = np.std(Trial8_xaxis['X position (nm)'])\n",
    "error_x = [Trial6Xstd, Trial7Xstd,Trial8Xstd]\n",
    "print(np.mean(error_x))"
   ]
  },
  {
   "cell_type": "code",
   "execution_count": 33,
   "id": "5ef36633",
   "metadata": {},
   "outputs": [
    {
     "data": {
      "text/plain": [
       "<matplotlib.collections.PolyCollection at 0x7fd3d31ca7c0>"
      ]
     },
     "execution_count": 33,
     "metadata": {},
     "output_type": "execute_result"
    },
    {
     "data": {
      "image/png": "[encoded data removed]",
      "text/plain": [
       "<Figure size 432x288 with 1 Axes>"
      ]
     },
     "metadata": {
      "needs_background": "light"
     },
     "output_type": "display_data"
    }
   ],
   "source": [
    "plt.plot(Trial6_Angles['Degree'], Trial6_xaxis['X position (nm)'], color = 'red', label = 'Trial 6')\n",
    "plt.plot(Trial7_Angles['Degree'], Trial7_xaxis['X position (nm)'], color = 'blue', label = 'Trial 7')\n",
    "plt.plot(Trial8_Angles['Degree'], Trial8_xaxis['X position (nm)'], color = 'orange', label = 'Trial 8')\n",
    "plt.title('Change in X for different trials')\n",
    "plt.xlabel('Alpha Angle')\n",
    "plt.ylabel('X position (nm)')\n",
    "plt.legend()\n",
    "\n",
    "plt.fill_between(Trial6_Angles['Degree'], Trial6_xaxis['X position (nm)'] - Trial6Xstd, Trial6_xaxis['X position (nm)'] + Trial6Xstd, color = 'red', alpha = 0.1)\n",
    "plt.fill_between(Trial7_Angles['Degree'], Trial7_xaxis['X position (nm)'] - Trial7Xstd, Trial7_xaxis['X position (nm)'] + Trial7Xstd, color = 'blue', alpha = 0.1)\n",
    "plt.fill_between(Trial8_Angles['Degree'], Trial8_xaxis['X position (nm)'] - Trial8Xstd, Trial8_xaxis['X position (nm)'] + Trial8Xstd, color = 'orange', alpha = 0.1)"
   ]
  },
  {
   "cell_type": "code",
   "execution_count": 34,
   "id": "91354526",
   "metadata": {},
   "outputs": [],
   "source": [
    "#Can try to find the error in the histogram since they do not have positions"
   ]
  },
  {
   "cell_type": "code",
   "execution_count": 35,
   "id": "4de0938b",
   "metadata": {},
   "outputs": [
    {
     "data": {
      "text/plain": [
       "Text(0.5, 1.0, 'Degree per Acquire')"
      ]
     },
     "execution_count": 35,
     "metadata": {},
     "output_type": "execute_result"
    },
    {
     "data": {
      "image/png": "[encoded data removed]",
      "text/plain": [
       "<Figure size 432x288 with 1 Axes>"
      ]
     },
     "metadata": {
      "needs_background": "light"
     },
     "output_type": "display_data"
    }
   ],
   "source": [
    "plt.hist(Trial6_Degree_Acquire['Degree per Acquire'], color = 'blue', label = 'Trial 6', edgecolor = 'black')\n",
    "plt.hist(Trial7_Degree_Acquire['Degree per Acquire'], color = 'red', label = 'Trial 7', edgecolor = 'black')\n",
    "plt.hist(Trial8_Degree_Acquire['Degree per Acquire'], color = 'orange', label = 'Trial 8', edgecolor = 'black')\n",
    "plt.legend()\n",
    "plt.xlabel('Delta Alpha')\n",
    "plt.ylabel('Occurences')\n",
    "plt.title('Degree per Acquire')"
   ]
  },
  {
   "cell_type": "code",
   "execution_count": 40,
   "id": "b34409c8",
   "metadata": {},
   "outputs": [
    {
     "name": "stdout",
     "output_type": "stream",
     "text": [
      "121.33333333333333\n"
     ]
    }
   ],
   "source": [
    "Difference_6y = np.max(Trial6_yaxis['Y position (nm)']) - np.min(Trial6_yaxis['Y position (nm)'])\n",
    "Difference_7y = np.max(Trial7_yaxis['Y position (nm)']) - np.min(Trial7_yaxis['Y position (nm)'])\n",
    "Difference_8y = np.max(Trial8_yaxis['Y position (nm)']) - np.min(Trial8_yaxis['Y position (nm)'])\n",
    "Difference_avey = [Difference_6y, Difference_7y, Difference_8y]\n",
    "print(np.mean(Difference_avey))"
   ]
  },
  {
   "cell_type": "code",
   "execution_count": 41,
   "id": "c836b407",
   "metadata": {},
   "outputs": [
    {
     "name": "stdout",
     "output_type": "stream",
     "text": [
      "88.39999999999903\n"
     ]
    }
   ],
   "source": [
    "Difference_6x = np.max(Trial6_xaxis['X position (nm)']) - np.min(Trial6_xaxis['X position (nm)'])\n",
    "Difference_7x = np.max(Trial7_xaxis['X position (nm)']) - np.min(Trial7_xaxis['X position (nm)'])\n",
    "Difference_8x = np.max(Trial8_xaxis['X position (nm)']) - np.min(Trial8_xaxis['X position (nm)'])\n",
    "Difference_avex = [Difference_6x, Difference_7x, Difference_8x]\n",
    "print(np.mean(Difference_avex))"
   ]
  },
  {
   "cell_type": "code",
   "execution_count": 44,
   "id": "a3b36477",
   "metadata": {},
   "outputs": [
    {
     "name": "stdout",
     "output_type": "stream",
     "text": [
      "29.15339565088003\n"
     ]
    }
   ],
   "source": [
    "Trial6Astd = np.std(Trial6_Angles['Degree'])\n",
    "Trial7Astd = np.std(Trial7_Angles['Degree'])\n",
    "Trial8Astd = np.std(Trial8_Angles['Degree'])\n",
    "error_a = [Trial6Astd, Trial7Astd,Trial8Astd]\n",
    "print(np.mean(error_a))"
   ]
  },
  {
   "cell_type": "code",
   "execution_count": 45,
   "id": "09cceae1",
   "metadata": {},
   "outputs": [
    {
     "name": "stdout",
     "output_type": "stream",
     "text": [
      "-0.9974737161716161\n"
     ]
    }
   ],
   "source": [
    "Trial6Aave = np.mean(Trial6_Angles['Degree'])\n",
    "Trial7Aave = np.mean(Trial7_Angles['Degree'])\n",
    "Trial8Aave = np.mean(Trial8_Angles['Degree'])\n",
    "error_ave = [Trial6Aave, Trial7Aave,Trial8Aave]\n",
    "print(np.mean(error_ave))"
   ]
  },
  {
   "cell_type": "code",
   "execution_count": 1,
   "id": "7d8cb5d9",
   "metadata": {},
   "outputs": [
    {
     "name": "stdout",
     "output_type": "stream",
     "text": [
      "Collecting mrcfile\n",
      "  Downloading mrcfile-1.5.3-py2.py3-none-any.whl (44 kB)\n",
      "\u001b[K     |████████████████████████████████| 44 kB 1.5 MB/s eta 0:00:01\n",
      "\u001b[?25hRequirement already satisfied: numpy>=1.16.0 in /Users/enriquecisneros/opt/anaconda3/lib/python3.9/site-packages (from mrcfile) (1.24.3)\n",
      "Installing collected packages: mrcfile\n",
      "Successfully installed mrcfile-1.5.3\n",
      "Note: you may need to restart the kernel to use updated packages.\n"
     ]
    }
   ],
   "source": [
    "pip install mrcfile"
   ]
  },
  {
   "cell_type": "code",
   "execution_count": null,
   "id": "c7cfff5f",
   "metadata": {},
   "outputs": [],
   "source": []
  }
 ],
 "metadata": {
  "kernelspec": {
   "display_name": "Python 3 (ipykernel)",
   "language": "python",
   "name": "python3"
  },
  "language_info": {
   "codemirror_mode": {
    "name": "ipython",
    "version": 3
   },
   "file_extension": ".py",
   "mimetype": "text/x-python",
   "name": "python",
   "nbconvert_exporter": "python",
   "pygments_lexer": "ipython3",
   "version": "3.9.7"
  }
 },
 "nbformat": 4,
 "nbformat_minor": 5
}
